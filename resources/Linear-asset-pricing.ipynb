{
 "cells": [
  {
   "cell_type": "markdown",
   "metadata": {},
   "source": [
    "# Linear asset pricing\n",
    "Computing YTM of ZCB, C-bond and Floating-rate note via:\n",
    "- scalar univariate function using Brent method\n",
    "- binary integer grid search"
   ]
  },
  {
   "cell_type": "code",
   "execution_count": 1,
   "metadata": {},
   "outputs": [],
   "source": [
    "from models import ytm\n",
    "import numpy as np\n",
    "from numpy.random import randint"
   ]
  },
  {
   "cell_type": "code",
   "execution_count": 2,
   "metadata": {},
   "outputs": [
    {
     "name": "stdout",
     "output_type": "stream",
     "text": [
      "==Assumptions== \n",
      "Face value = 1000 \n",
      "Maturity = 10 \n",
      "Mkt price = 850 \n",
      "Coupon rate = 0.05 \n",
      "Floating rates = [0.04 0.04 0.03 0.07 0.06 0.09 0.01 0.04 0.05 0.06]\n",
      "\n"
     ]
    }
   ],
   "source": [
    "# Assumptions\n",
    "face_value = 1000  # payoff at time T\n",
    "maturity = 10  # T, years\n",
    "price = 850  # market price at time t0\n",
    "coupon_rate = 0.05  # coupon rate of C-bond\n",
    "float_rate = np.asarray(randint(1, 10, maturity) / 100)  # expected floating coupon rate of FRN\n",
    "\n",
    "# Display assumptions\n",
    "print('==Assumptions== \\nFace value = {} \\nMaturity = {} \\nMkt price = {} \\nCoupon rate = {} '\n",
    "      '\\nFloating rates = {}\\n'.format(face_value, maturity, price, coupon_rate, float_rate))"
   ]
  },
  {
   "cell_type": "code",
   "execution_count": 3,
   "metadata": {},
   "outputs": [
    {
     "data": {
      "text/plain": [
       "array([  40.,   40.,   30.,   70.,   60.,   90.,   10.,   40.,   50.,\n",
       "       1060.])"
      ]
     },
     "execution_count": 3,
     "metadata": {},
     "output_type": "execute_result"
    }
   ],
   "source": [
    "# Construct ZCB, C-bond and FRN\n",
    "# Build ZCB\n",
    "zcb = ytm.CouponBond(face_value, maturity, price)\n",
    "zcb.cash_flow()\n",
    "\n",
    "# Build C-bond\n",
    "c_bond = ytm.CouponBond(face_value, maturity, price, coupon_rate)\n",
    "c_bond.cash_flow()\n",
    "\n",
    "# Build Floating-rate Note\n",
    "frn = ytm.CouponBond(face_value, maturity, price, float_rate, FRN=True)\n",
    "frn.cash_flow()"
   ]
  },
  {
   "cell_type": "markdown",
   "metadata": {},
   "source": [
    "## Solve as scalar univariate function using Brent method"
   ]
  },
  {
   "cell_type": "code",
   "execution_count": 4,
   "metadata": {},
   "outputs": [
    {
     "name": "stdout",
     "output_type": "stream",
     "text": [
      "==Brent metod== \n",
      "Bond\t|   YTM\t  |\tNPV\n",
      "ZCB \t| 1.6385% |  -0.0000\n",
      "C-bond \t| 7.1505% |   0.0000\n",
      "FRN \t| 6.9768% |  -0.0000\n"
     ]
    }
   ],
   "source": [
    "print('==Brent metod== \\nBond\\t|   YTM\\t  |\\tNPV')  # header\n",
    "\n",
    "# Solve for ZCB\n",
    "YTM, NPV = ytm.solve_brent(zcb)\n",
    "print('ZCB \\t| {:6.4f}% | {:>8.4f}'.format(YTM * 100, NPV))\n",
    "\n",
    "# Solve for C-bond\n",
    "YTM, NPV = ytm.solve_brent(c_bond)\n",
    "print('C-bond \\t| {:6.4f}% | {:>8.4f}'.format(YTM * 100, NPV))\n",
    "\n",
    "# Solve for FRN\n",
    "YTM, NPV = ytm.solve_brent(frn)\n",
    "print('FRN \\t| {:6.4f}% | {:>8.4f}'.format(YTM * 100, NPV))"
   ]
  },
  {
   "cell_type": "markdown",
   "metadata": {},
   "source": [
    "## Solve as binary integer grid search problem"
   ]
  },
  {
   "cell_type": "code",
   "execution_count": 5,
   "metadata": {},
   "outputs": [
    {
     "name": "stdout",
     "output_type": "stream",
     "text": [
      "==Intreger grid search== \n",
      "Bond\t|   YTM\t  |\tNPV\n",
      "ZCB \t| 1.6250% |   1.1271\n",
      "C-bond \t| 7.1250% |   1.6075\n",
      "FRN \t| 7.0000% |  -1.4829\n"
     ]
    }
   ],
   "source": [
    "print('==Intreger grid search== \\nBond\\t|   YTM\\t  |\\tNPV')  # header\n",
    "\n",
    "# Solve for ZCB\n",
    "YTM, NPV = ytm.solve_integer(zcb)\n",
    "print('ZCB \\t| {:6.4f}% | {:>8.4f}'.format(YTM * 100, NPV))\n",
    "\n",
    "# Solve for C-bond\n",
    "YTM, NPV = ytm.solve_integer(c_bond)\n",
    "print('C-bond \\t| {:6.4f}% | {:>8.4f}'.format(YTM * 100, NPV))\n",
    "\n",
    "# Solve for FRN\n",
    "YTM, NPV = ytm.solve_integer(frn)\n",
    "print('FRN \\t| {:6.4f}% | {:>8.4f}'.format(YTM * 100, NPV))"
   ]
  }
 ],
 "metadata": {
  "kernelspec": {
   "display_name": "Python (Quantfin-env)",
   "language": "python",
   "name": "quantfin-env"
  },
  "language_info": {
   "codemirror_mode": {
    "name": "ipython",
    "version": 3
   },
   "file_extension": ".py",
   "mimetype": "text/x-python",
   "name": "python",
   "nbconvert_exporter": "python",
   "pygments_lexer": "ipython3",
   "version": "3.7.3"
  }
 },
 "nbformat": 4,
 "nbformat_minor": 2
}
