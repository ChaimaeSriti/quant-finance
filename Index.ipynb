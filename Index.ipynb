{
 "cells": [
  {
   "cell_type": "markdown",
   "metadata": {},
   "source": [
    "# Time Series Analysis"
   ]
  },
  {
   "cell_type": "markdown",
   "metadata": {},
   "source": [
    "**Time Series Analysis Models** (tsa-models) repository is a collection of algorithms and models for Time series analysis and forecasting. \n",
    "\n",
    "*Models are tested on S&P 500 historical prices.*"
   ]
  },
  {
   "cell_type": "markdown",
   "metadata": {},
   "source": [
    "## [Index](Index.ipynb)"
   ]
  },
  {
   "cell_type": "markdown",
   "metadata": {},
   "source": [
    "Links to applications of currently available models and algorithms:\n",
    "\n",
    "1. [Smoothing methods](Smoothing-Methods.ipynb)\n",
    "    - Moving average\n",
    "    - Exponential smoothing\n",
    "    - Double exponential smoothing\n",
    "    \n",
    "    \n",
    "2. [Holt-Winters model](Holt-Winters.ipynb)\n",
    "    - triple exponential smoothing\n",
    "    - rolling cross-validation via Conjugate gradient, Truncated Newton algorithms\n",
    "    \n",
    "    \n",
    "3. [Seasonal ARIMA](Seasonal-ARIMA.ipynb)\n",
    "    - optimization of AR, MA and Seasonal parameters via simulations\n",
    "    - applies parameters of the best fit to data extrapolation"
   ]
  }
 ],
 "metadata": {
  "kernelspec": {
   "display_name": "Python 3",
   "language": "python",
   "name": "python3"
  },
  "language_info": {
   "codemirror_mode": {
    "name": "ipython",
    "version": 3
   },
   "file_extension": ".py",
   "mimetype": "text/x-python",
   "name": "python",
   "nbconvert_exporter": "python",
   "pygments_lexer": "ipython3",
   "version": "3.7.3"
  }
 },
 "nbformat": 4,
 "nbformat_minor": 2
}
