{
 "cells": [
  {
   "cell_type": "markdown",
   "metadata": {},
   "source": [
    "# Quantitative finance models and algorithms\n",
    "\n",
    "[v0.2.1](CHANGELOG.md)\n",
    "\n",
    "Collection of models with optimization algorithms for Time series analysis, algorithmic forecasting, quantitative research and risk-management.\n",
    "\n",
    "## Index\n",
    "### Optimization models\n",
    "1. [Linear Asset Pricing](resources/Linear-asset-pricing.ipynb)\n",
    "    - linear asset pricing: FX income, capital budgeting, floating-rate notes\n",
    "    - univariate concave nonlinear optimization of IRR-YTM using Brent method and binary grid search on subintervals\n",
    "    - available as mixed integer programming problem, ready-to-use on [NISQ](https://arxiv.org/abs/1801.00862) devices\n",
    "\n",
    "\n",
    "### Time series analysis models\n",
    "1. [GJR-GARCH](resources/GJR-GARCH.ipynb)\n",
    "    - Glosten-Jagannathan-Runkle GARCH(p, o, q)\n",
    "    - unsupervised optimization of parameters\n",
    "    - captures asymmetric shocks (leverage effect)\n",
    "\n",
    "\n",
    "2. [Seasonal ARIMA](resources/Seasonal-ARIMA.ipynb)\n",
    "    - ARIMA(p, d, q)x(P, D, Q, s)\n",
    "    - unsupervised optimization of AR, MA and Seasonal parameters\n",
    "    - provides one-step-ahead predictions and out-of-sample forecast\n",
    "\n",
    "\n",
    "3. [Holt-Winters model](resources/Holt-Winters.ipynb)    \n",
    "    - triple exponential smoothing\n",
    "    - cross-validation via Conjugate gradient, TNC\n",
    "    - in-sample prediction and extrapolation\n",
    "\n",
    "\n",
    "4. [Smoothing methods](resources/Smoothing-Methods.ipynb)\n",
    "    - Moving average\n",
    "    - Exponential smoothing\n",
    "    - Double exponential smoothing\n",
    "\n",
    "## License and Copyright\n",
    "Copyright (c) 2019 Oleksii Lialka\n",
    "\n",
    "Licensed under the [MIT License](LICENSE.md).\n"
   ]
  }
 ],
 "metadata": {
  "kernelspec": {
   "display_name": "Python (Quantfin-env)",
   "language": "python",
   "name": "quantfin-env"
  },
  "language_info": {
   "codemirror_mode": {
    "name": "ipython",
    "version": 3
   },
   "file_extension": ".py",
   "mimetype": "text/x-python",
   "name": "python",
   "nbconvert_exporter": "python",
   "pygments_lexer": "ipython3",
   "version": "3.7.3"
  }
 },
 "nbformat": 4,
 "nbformat_minor": 2
}
