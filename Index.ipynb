{
 "cells": [
  {
   "cell_type": "markdown",
   "metadata": {},
   "source": [
    "# Time Series Analysis models\n",
    "\n",
    "[v0.2](CHANGELOG.md)\n",
    "\n",
    "Collection of models with optimization algorithms for Time series analysis, algorithmic forecasting and quantitative research.\n",
    "\n",
    "Models are trained and tested on S&P 500 historical prices.\n",
    "\n",
    "## Index\n",
    "\n",
    "**Currently available models and algorithms:**\n",
    "\n",
    "1. [GJR-GARCH](GJR-GARCH.ipynb)\n",
    "    - Glosten-Jagannathan-Runkle GARCH(p, o, q)\n",
    "    - unsupervised optimization of parameters\n",
    "    - captures asymmetric shocks (leverage effect) \n",
    "2. [Seasonal ARIMA](Seasonal-ARIMA.ipynb)\n",
    "    - ARIMA(p, d, q)x(P, D, Q, s)\n",
    "    - unsupervised optimization of AR, MA and Seasonal parameters\n",
    "    - provides one-step-ahead predictions and out-of-sample forecast\n",
    "3. [Holt-Winters model](Holt-Winters.ipynb)    \n",
    "    - triple exponential smoothing\n",
    "    - cross-validation via Conjugate gradient, TNC\n",
    "    - in-sample prediction and extrapolation\n",
    "4. [Smoothing methods](Smoothing-Methods.ipynb)\n",
    "    - Moving average\n",
    "    - Exponential smoothing\n",
    "    - Double exponential smoothing\n",
    "\n",
    "## License and Copyright\n",
    "Copyright (c) 2019 Oleksii Lialka\n",
    "\n",
    "Licensed under the [MIT License](LICENSE.md)."
   ]
  }
 ],
 "metadata": {
  "kernelspec": {
   "display_name": "Python 3",
   "language": "python",
   "name": "python3"
  },
  "language_info": {
   "codemirror_mode": {
    "name": "ipython",
    "version": 3
   },
   "file_extension": ".py",
   "mimetype": "text/x-python",
   "name": "python",
   "nbconvert_exporter": "python",
   "pygments_lexer": "ipython3",
   "version": "3.7.3"
  }
 },
 "nbformat": 4,
 "nbformat_minor": 2
}
