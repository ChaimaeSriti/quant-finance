{
 "cells": [
  {
   "cell_type": "markdown",
   "metadata": {},
   "source": [
    "# Linear asset pricing\n",
    "Computing YTM of ZCB, C-bond and Floating-rate note via:\n",
    "- scalar univariate function using Brent method\n",
    "- binary integer grid search"
   ]
  },
  {
   "cell_type": "code",
   "execution_count": 1,
   "metadata": {},
   "outputs": [],
   "source": [
    "from itertools import product\n",
    "\n",
    "import numpy as np\n",
    "from numpy.random import randint\n",
    "from scipy.optimize import minimize_scalar\n",
    "from quantfin.models import irr"
   ]
  },
  {
   "cell_type": "markdown",
   "metadata": {},
   "source": [
    "## Assumptions"
   ]
  },
  {
   "cell_type": "code",
   "execution_count": 2,
   "metadata": {},
   "outputs": [
    {
     "name": "stdout",
     "output_type": "stream",
     "text": [
      "\n",
      "==Assumptions== \n",
      "Face value = 1000 \n",
      "Maturity = 10 \n",
      "Mkt price = 850 \n",
      "Coupon rate = 0.05 \n",
      "Floating rates = [0.07 0.08 0.08 0.07 0.01 0.09 0.05 0.06 0.08 0.05]\n",
      "\n"
     ]
    }
   ],
   "source": [
    "# Assumptions\n",
    "face_value = 1000  # payoff at time T\n",
    "maturity = 10  # T, years\n",
    "price = 850  # market price at time t0\n",
    "coupon_rate = 0.05  # coupon rate of C-bond\n",
    "float_rate = np.asarray(randint(1, 10, maturity) / 100)\n",
    "\n",
    "# Grid search problem dimensions\n",
    "dim, scale = 5, 0.005\n",
    "\n",
    "# Build ZCB\n",
    "zcb = irr.Bond(face_value, maturity, price)\n",
    "zcb.cash_flow()\n",
    "# Build C-bond\n",
    "c_bond = irr.Bond(face_value, maturity, price, coupon_rate)\n",
    "c_bond.cash_flow()\n",
    "# Build Floating-rate Note\n",
    "frn = irr.Bond(face_value, maturity, price, float_rate, frn=True)\n",
    "frn.cash_flow()\n",
    "\n",
    "# Display assumptions\n",
    "print('\\n==Assumptions== '\n",
    "      '\\nFace value = {} '\n",
    "      '\\nMaturity = {} '\n",
    "      '\\nMkt price = {} '\n",
    "      '\\nCoupon rate = {} '\n",
    "      '\\nFloating rates = {}'\n",
    "      '\\n'\n",
    "      .format(face_value,\n",
    "              maturity,\n",
    "              price,\n",
    "              coupon_rate,\n",
    "              float_rate))"
   ]
  },
  {
   "cell_type": "markdown",
   "metadata": {},
   "source": [
    "## Solve as scalar univariate function using Brent method"
   ]
  },
  {
   "cell_type": "code",
   "execution_count": 3,
   "metadata": {},
   "outputs": [
    {
     "name": "stdout",
     "output_type": "stream",
     "text": [
      "==Brent metod== \n",
      "Bond\t|   YTM   |   NPV\n",
      "ZCB \t| 1.6385% | -0.0000\n",
      "C-bond \t| 7.1505% | 0.0000\n",
      "FRN \t| 8.8397% | 0.0000\n"
     ]
    }
   ],
   "source": [
    "# Solve as scalar univariate function using Brent method\n",
    "print('==Brent metod== \\nBond\\t|   YTM   |   NPV')  # header\n",
    "# Solve for ZCB\n",
    "ytm, npv = irr.solve_brent(zcb)\n",
    "print('ZCB \\t| {:6.4f}% | {:4.4f}'.format(ytm * 100, npv))\n",
    "# Solve for C-bond\n",
    "ytm, npv = irr.solve_brent(c_bond)\n",
    "print('C-bond \\t| {:6.4f}% | {:4.4f}'.format(ytm * 100, npv))\n",
    "# Solve for FRN\n",
    "ytm, npv = irr.solve_brent(frn)\n",
    "print('FRN \\t| {:6.4f}% | {:4.4f}'.format(ytm * 100, npv))"
   ]
  },
  {
   "cell_type": "markdown",
   "metadata": {},
   "source": [
    "## Solve as binary integer grid search problem"
   ]
  },
  {
   "cell_type": "code",
   "execution_count": 4,
   "metadata": {},
   "outputs": [
    {
     "name": "stdout",
     "output_type": "stream",
     "text": [
      "\n",
      "==Intreger grid search== \n",
      "Bond\t|   YTM   |   NPV\n",
      "ZCB \t| 1.5000% | 11.6672\n",
      "C-bond \t| 7.0000% | 9.5284\n",
      "FRN \t| 9.0000% | -9.0883\n",
      "Grid size = 32\n"
     ]
    }
   ],
   "source": [
    " # Solve as integer grid search problem\n",
    "print('\\n==Intreger grid search== \\nBond\\t|   YTM   |   NPV')  # header\n",
    "# Solve for ZCB\n",
    "ytm, npv = irr.solve_integer(dim, scale, zcb)\n",
    "print('ZCB \\t| {:6.4f}% | {:4.4f}'.format(ytm * 100, npv))\n",
    "# Solve for C-bond\n",
    "ytm, npv = irr.solve_integer(dim, scale, c_bond)\n",
    "print('C-bond \\t| {:6.4f}% | {:4.4f}'.format(ytm * 100, npv))\n",
    "# Solve for FRN\n",
    "ytm, npv = irr.solve_integer(dim, scale, frn)\n",
    "print('FRN \\t| {:6.4f}% | {:4.4f}'.format(ytm * 100, npv))\n",
    "print('Grid size =', 2 ** dim)"
   ]
  }
 ],
 "metadata": {
  "kernelspec": {
   "display_name": "Python (Quant-finance)",
   "language": "python",
   "name": "quant-finance"
  },
  "language_info": {
   "codemirror_mode": {
    "name": "ipython",
    "version": 3
   },
   "file_extension": ".py",
   "mimetype": "text/x-python",
   "name": "python",
   "nbconvert_exporter": "python",
   "pygments_lexer": "ipython3",
   "version": "3.7.3"
  }
 },
 "nbformat": 4,
 "nbformat_minor": 2
}
